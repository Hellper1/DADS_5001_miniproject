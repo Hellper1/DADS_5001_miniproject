{
 "cells": [
  {
   "cell_type": "code",
   "execution_count": 10,
   "metadata": {},
   "outputs": [],
   "source": [
    "import pandas as pd\n",
    "import numpy as np"
   ]
  },
  {
   "cell_type": "code",
   "execution_count": 11,
   "metadata": {},
   "outputs": [
    {
     "data": {
      "text/plain": [
       "'1.4.2'"
      ]
     },
     "execution_count": 11,
     "metadata": {},
     "output_type": "execute_result"
    }
   ],
   "source": [
    "pd.__version__"
   ]
  },
  {
   "cell_type": "code",
   "execution_count": 38,
   "metadata": {},
   "outputs": [],
   "source": [
    "# Load dataset\n",
    "\n",
    "df_production = pd.read_csv('https://raw.githubusercontent.com/Hellper1/DADS_5001_miniproject/main/dataset/electricity-production-by-source.csv')\n",
    "df_consumption = pd.read_csv('https://raw.githubusercontent.com/Hellper1/DADS_5001_miniproject/main/dataset/energy-consumption-by-source-and-country.csv')\n",
    "df_co2 = pd.read_csv('https://raw.githubusercontent.com/Hellper1/DADS_5001_miniproject/main/dataset/annual-co2-emissions-per-country.csv')\n",
    "#df_temp = pd.read_csv('https://raw.githubusercontent.com/Hellper1/DADS_5001_miniproject/main/dataset/FAOSTAT_data_en_2-12-2023.csv')\n",
    "df_temp2 = pd.read_csv('https://raw.githubusercontent.com/Hellper1/DADS_5001_miniproject/main/dataset/FAOSTAT_data_en_2-12-2023_country_region.csv')"
   ]
  },
  {
   "cell_type": "code",
   "execution_count": 39,
   "metadata": {},
   "outputs": [],
   "source": [
    "# Merge file\n",
    "\n",
    "df_energy = df_production.merge(df_consumption, how='right',on=['Entity','Code','Year']).merge(df_co2, how='left', on=['Entity','Code','Year']).merge(df_temp2, how='left', on=['Entity','Code','Year'])"
   ]
  },
  {
   "cell_type": "code",
   "execution_count": 40,
   "metadata": {},
   "outputs": [],
   "source": [
    "#select year 2000 to 2020\n",
    "indexYear = df_energy[ (df_energy['Year'] < 2000) | (df_energy['Year'] > 2020)].index\n",
    "df_energy.drop(indexYear, inplace=True)"
   ]
  },
  {
   "cell_type": "code",
   "execution_count": 44,
   "metadata": {},
   "outputs": [],
   "source": [
    "#delete Entity that contains BP\n",
    "discard = [\"BP\",\"USSR\",\"European Union\",\"income\"]\n",
    "df = df_energy[~df_energy.Entity.str.contains('|'.join(discard))]"
   ]
  },
  {
   "cell_type": "code",
   "execution_count": 45,
   "metadata": {},
   "outputs": [
    {
     "name": "stdout",
     "output_type": "stream",
     "text": [
      "<class 'pandas.core.frame.DataFrame'>\n",
      "Int64Index: 1806 entries, 35 to 5980\n",
      "Data columns (total 23 columns):\n",
      " #   Column                                            Non-Null Count  Dtype  \n",
      "---  ------                                            --------------  -----  \n",
      " 0   Entity                                            1806 non-null   object \n",
      " 1   Code                                              1680 non-null   object \n",
      " 2   Year                                              1806 non-null   int64  \n",
      " 3   Electricity from coal (TWh)                       1806 non-null   float64\n",
      " 4   Electricity from gas (TWh)                        1806 non-null   float64\n",
      " 5   Electricity from nuclear (TWh)                    1806 non-null   float64\n",
      " 6   Electricity from hydro (TWh)                      1806 non-null   float64\n",
      " 7   Electricity from solar (TWh)                      1806 non-null   float64\n",
      " 8   Electricity from oil (TWh)                        1806 non-null   float64\n",
      " 9   Electricity from wind (TWh)                       1806 non-null   float64\n",
      " 10  Electricity from bioenergy (TWh)                  1785 non-null   float64\n",
      " 11  Other renewables excluding bioenergy (TWh)        1701 non-null   float64\n",
      " 12  Geo Biomass Other - TWh (zero filled)             1806 non-null   float64\n",
      " 13  Biofuels Consumption - TWh - Total (zero filled)  1806 non-null   float64\n",
      " 14  Solar Consumption - TWh (zero filled)             1806 non-null   float64\n",
      " 15  Wind Consumption - TWh (zero filled)              1806 non-null   float64\n",
      " 16  Hydro Consumption - TWh (zero filled)             1806 non-null   float64\n",
      " 17  Nuclear Consumption - TWh (zero filled)           1806 non-null   float64\n",
      " 18  Gas Consumption - TWh (zero filled)               1806 non-null   float64\n",
      " 19  Coal Consumption - TWh (zero filled)              1806 non-null   float64\n",
      " 20  Oil Consumption - TWh (zero filled)               1806 non-null   float64\n",
      " 21  Annual CO2 emissions                              1806 non-null   float64\n",
      " 22  Value                                             1784 non-null   float64\n",
      "dtypes: float64(20), int64(1), object(2)\n",
      "memory usage: 338.6+ KB\n"
     ]
    }
   ],
   "source": [
    "df.info()"
   ]
  },
  {
   "cell_type": "code",
   "execution_count": 46,
   "metadata": {},
   "outputs": [],
   "source": [
    "df.to_csv('miniproject.csv')"
   ]
  }
 ],
 "metadata": {
  "kernelspec": {
   "display_name": "base",
   "language": "python",
   "name": "python3"
  },
  "language_info": {
   "codemirror_mode": {
    "name": "ipython",
    "version": 3
   },
   "file_extension": ".py",
   "mimetype": "text/x-python",
   "name": "python",
   "nbconvert_exporter": "python",
   "pygments_lexer": "ipython3",
   "version": "3.9.12"
  },
  "orig_nbformat": 4,
  "vscode": {
   "interpreter": {
    "hash": "b33cbd221e9be3538ef108613c2d5cc2f9d7369f303fc2904bee642d4ab700d9"
   }
  }
 },
 "nbformat": 4,
 "nbformat_minor": 2
}
