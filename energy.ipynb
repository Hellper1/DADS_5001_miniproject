{
 "cells": [
  {
   "cell_type": "code",
   "execution_count": 2,
   "metadata": {},
   "outputs": [],
   "source": [
    "import pandas as pd\n",
    "import numpy as np"
   ]
  },
  {
   "cell_type": "code",
   "execution_count": 3,
   "metadata": {},
   "outputs": [
    {
     "data": {
      "text/plain": [
       "'1.4.2'"
      ]
     },
     "execution_count": 3,
     "metadata": {},
     "output_type": "execute_result"
    }
   ],
   "source": [
    "pd.__version__"
   ]
  },
  {
   "cell_type": "code",
   "execution_count": 133,
   "metadata": {},
   "outputs": [],
   "source": [
    "#Import file\n",
    "\n",
    "df_production = pd.read_csv('https://raw.githubusercontent.com/Hellper1/DADS_5001_miniproject/main/dataset/electricity-production-by-source.csv')\n",
    "df_consumption = pd.read_csv('https://raw.githubusercontent.com/Hellper1/DADS_5001_miniproject/main/dataset/energy-consumption-by-source-and-country.csv')\n",
    "df_co2 = pd.read_csv('https://raw.githubusercontent.com/Hellper1/DADS_5001_miniproject/main/dataset/annual-co2-emissions-per-country.csv')\n",
    "df_temp = pd.read_csv('https://raw.githubusercontent.com/Hellper1/DADS_5001_miniproject/main/dataset/FAOSTAT_data_en_2-12-2023.csv')"
   ]
  },
  {
   "cell_type": "code",
   "execution_count": 88,
   "metadata": {},
   "outputs": [],
   "source": [
    "#Merge file\n",
    "\n",
    "df = df_production.merge(df_consumption, how='right',on=['Entity','Code','Year']).merge(df_co2, how='left', on=['Entity','Code','Year']).merge(df_temp, how='left', on=['Entity','Code','Year'])"
   ]
  },
  {
   "cell_type": "code",
   "execution_count": 126,
   "metadata": {},
   "outputs": [],
   "source": [
    "df3.to_csv('miniproject.csv')"
   ]
  },
  {
   "cell_type": "code",
   "execution_count": 125,
   "metadata": {},
   "outputs": [],
   "source": [
    "#select year 2000 to 2020\n",
    "df1 = df\n",
    "indexYear = df1[ (df1['Year'] < 2000) | (df1['Year'] > 2020)].index\n",
    "df1.drop(indexYear, inplace=True)"
   ]
  },
  {
   "cell_type": "code",
   "execution_count": 127,
   "metadata": {},
   "outputs": [],
   "source": [
    "#delete Entity that contains BP\n",
    "df2 = df1\n",
    "discard = [\"BP\",\"USSR\"]\n",
    "df3 = df2[~df2.Entity.str.contains('|'.join(discard))]"
   ]
  },
  {
   "cell_type": "code",
   "execution_count": 130,
   "metadata": {},
   "outputs": [
    {
     "name": "stdout",
     "output_type": "stream",
     "text": [
      "<class 'pandas.core.frame.DataFrame'>\n",
      "Int64Index: 1911 entries, 35 to 5980\n",
      "Data columns (total 23 columns):\n",
      " #   Column                                            Non-Null Count  Dtype  \n",
      "---  ------                                            --------------  -----  \n",
      " 0   Entity                                            1911 non-null   object \n",
      " 1   Code                                              1680 non-null   object \n",
      " 2   Year                                              1911 non-null   int64  \n",
      " 3   Electricity from coal (TWh)                       1911 non-null   float64\n",
      " 4   Electricity from gas (TWh)                        1911 non-null   float64\n",
      " 5   Electricity from nuclear (TWh)                    1911 non-null   float64\n",
      " 6   Electricity from hydro (TWh)                      1911 non-null   float64\n",
      " 7   Electricity from solar (TWh)                      1911 non-null   float64\n",
      " 8   Electricity from oil (TWh)                        1911 non-null   float64\n",
      " 9   Electricity from wind (TWh)                       1911 non-null   float64\n",
      " 10  Electricity from bioenergy (TWh)                  1890 non-null   float64\n",
      " 11  Other renewables excluding bioenergy (TWh)        1806 non-null   float64\n",
      " 12  Geo Biomass Other - TWh (zero filled)             1911 non-null   float64\n",
      " 13  Biofuels Consumption - TWh - Total (zero filled)  1911 non-null   float64\n",
      " 14  Solar Consumption - TWh (zero filled)             1911 non-null   float64\n",
      " 15  Wind Consumption - TWh (zero filled)              1911 non-null   float64\n",
      " 16  Hydro Consumption - TWh (zero filled)             1911 non-null   float64\n",
      " 17  Nuclear Consumption - TWh (zero filled)           1911 non-null   float64\n",
      " 18  Gas Consumption - TWh (zero filled)               1911 non-null   float64\n",
      " 19  Coal Consumption - TWh (zero filled)              1911 non-null   float64\n",
      " 20  Oil Consumption - TWh (zero filled)               1911 non-null   float64\n",
      " 21  Annual CO2 emissions                              1911 non-null   float64\n",
      " 22  Value                                             1637 non-null   float64\n",
      "dtypes: float64(20), int64(1), object(2)\n",
      "memory usage: 358.3+ KB\n"
     ]
    }
   ],
   "source": [
    "df3.info()"
   ]
  },
  {
   "cell_type": "code",
   "execution_count": 135,
   "metadata": {},
   "outputs": [],
   "source": [
    "df_temp2 = pd.read_csv('https://raw.githubusercontent.com/Hellper1/DADS_5001_miniproject/main/dataset/FAOSTAT_data_en_2-19-2023_Regions.csv')"
   ]
  }
 ],
 "metadata": {
  "kernelspec": {
   "display_name": "base",
   "language": "python",
   "name": "python3"
  },
  "language_info": {
   "codemirror_mode": {
    "name": "ipython",
    "version": 3
   },
   "file_extension": ".py",
   "mimetype": "text/x-python",
   "name": "python",
   "nbconvert_exporter": "python",
   "pygments_lexer": "ipython3",
   "version": "3.9.12"
  },
  "orig_nbformat": 4,
  "vscode": {
   "interpreter": {
    "hash": "b33cbd221e9be3538ef108613c2d5cc2f9d7369f303fc2904bee642d4ab700d9"
   }
  }
 },
 "nbformat": 4,
 "nbformat_minor": 2
}
